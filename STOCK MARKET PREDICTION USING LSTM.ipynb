{
 "cells": [
  {
   "cell_type": "code",
   "execution_count": 3,
   "id": "c64e6de0",
   "metadata": {},
   "outputs": [],
   "source": [
    "import pandas_datareader as pdr\n",
    "import pandas as pd"
   ]
  },
  {
   "cell_type": "code",
   "execution_count": 4,
   "id": "7a263f7c",
   "metadata": {},
   "outputs": [
    {
     "name": "stderr",
     "output_type": "stream",
     "text": [
      "C:\\Users\\seanr\\anaconda3\\lib\\site-packages\\pandas_datareader\\tiingo.py:234: FutureWarning: In a future version of pandas all arguments of concat except for the argument 'objs' will be keyword-only\n",
      "  return pd.concat(dfs, self._concat_axis)\n"
     ]
    },
    {
     "data": {
      "text/html": [
       "<div>\n",
       "<style scoped>\n",
       "    .dataframe tbody tr th:only-of-type {\n",
       "        vertical-align: middle;\n",
       "    }\n",
       "\n",
       "    .dataframe tbody tr th {\n",
       "        vertical-align: top;\n",
       "    }\n",
       "\n",
       "    .dataframe thead th {\n",
       "        text-align: right;\n",
       "    }\n",
       "</style>\n",
       "<table border=\"1\" class=\"dataframe\">\n",
       "  <thead>\n",
       "    <tr style=\"text-align: right;\">\n",
       "      <th></th>\n",
       "      <th></th>\n",
       "      <th>close</th>\n",
       "      <th>high</th>\n",
       "      <th>low</th>\n",
       "      <th>open</th>\n",
       "      <th>volume</th>\n",
       "      <th>adjClose</th>\n",
       "      <th>adjHigh</th>\n",
       "      <th>adjLow</th>\n",
       "      <th>adjOpen</th>\n",
       "      <th>adjVolume</th>\n",
       "      <th>divCash</th>\n",
       "      <th>splitFactor</th>\n",
       "    </tr>\n",
       "    <tr>\n",
       "      <th>symbol</th>\n",
       "      <th>date</th>\n",
       "      <th></th>\n",
       "      <th></th>\n",
       "      <th></th>\n",
       "      <th></th>\n",
       "      <th></th>\n",
       "      <th></th>\n",
       "      <th></th>\n",
       "      <th></th>\n",
       "      <th></th>\n",
       "      <th></th>\n",
       "      <th></th>\n",
       "      <th></th>\n",
       "    </tr>\n",
       "  </thead>\n",
       "  <tbody>\n",
       "    <tr>\n",
       "      <th rowspan=\"5\" valign=\"top\">AAPL</th>\n",
       "      <th>2018-03-19 00:00:00+00:00</th>\n",
       "      <td>175.30</td>\n",
       "      <td>177.47</td>\n",
       "      <td>173.66</td>\n",
       "      <td>177.32</td>\n",
       "      <td>32804695</td>\n",
       "      <td>41.722731</td>\n",
       "      <td>42.239207</td>\n",
       "      <td>41.332399</td>\n",
       "      <td>42.203506</td>\n",
       "      <td>131218780</td>\n",
       "      <td>0.0</td>\n",
       "      <td>1.0</td>\n",
       "    </tr>\n",
       "    <tr>\n",
       "      <th>2018-03-20 00:00:00+00:00</th>\n",
       "      <td>175.24</td>\n",
       "      <td>176.80</td>\n",
       "      <td>174.94</td>\n",
       "      <td>175.24</td>\n",
       "      <td>19314039</td>\n",
       "      <td>41.708451</td>\n",
       "      <td>42.079742</td>\n",
       "      <td>41.637048</td>\n",
       "      <td>41.708451</td>\n",
       "      <td>77256156</td>\n",
       "      <td>0.0</td>\n",
       "      <td>1.0</td>\n",
       "    </tr>\n",
       "    <tr>\n",
       "      <th>2018-03-21 00:00:00+00:00</th>\n",
       "      <td>171.27</td>\n",
       "      <td>175.09</td>\n",
       "      <td>171.26</td>\n",
       "      <td>175.04</td>\n",
       "      <td>35247358</td>\n",
       "      <td>40.763560</td>\n",
       "      <td>41.672749</td>\n",
       "      <td>40.761180</td>\n",
       "      <td>41.660849</td>\n",
       "      <td>140989432</td>\n",
       "      <td>0.0</td>\n",
       "      <td>1.0</td>\n",
       "    </tr>\n",
       "    <tr>\n",
       "      <th>2018-03-22 00:00:00+00:00</th>\n",
       "      <td>168.85</td>\n",
       "      <td>172.68</td>\n",
       "      <td>168.60</td>\n",
       "      <td>170.00</td>\n",
       "      <td>41051076</td>\n",
       "      <td>40.187582</td>\n",
       "      <td>41.099151</td>\n",
       "      <td>40.128080</td>\n",
       "      <td>40.461291</td>\n",
       "      <td>164204304</td>\n",
       "      <td>0.0</td>\n",
       "      <td>1.0</td>\n",
       "    </tr>\n",
       "    <tr>\n",
       "      <th>2018-03-23 00:00:00+00:00</th>\n",
       "      <td>164.94</td>\n",
       "      <td>169.92</td>\n",
       "      <td>164.94</td>\n",
       "      <td>168.39</td>\n",
       "      <td>40248954</td>\n",
       "      <td>39.256972</td>\n",
       "      <td>40.442250</td>\n",
       "      <td>39.256972</td>\n",
       "      <td>40.078099</td>\n",
       "      <td>160995816</td>\n",
       "      <td>0.0</td>\n",
       "      <td>1.0</td>\n",
       "    </tr>\n",
       "  </tbody>\n",
       "</table>\n",
       "</div>"
      ],
      "text/plain": [
       "                                   close    high     low    open    volume  \\\n",
       "symbol date                                                                  \n",
       "AAPL   2018-03-19 00:00:00+00:00  175.30  177.47  173.66  177.32  32804695   \n",
       "       2018-03-20 00:00:00+00:00  175.24  176.80  174.94  175.24  19314039   \n",
       "       2018-03-21 00:00:00+00:00  171.27  175.09  171.26  175.04  35247358   \n",
       "       2018-03-22 00:00:00+00:00  168.85  172.68  168.60  170.00  41051076   \n",
       "       2018-03-23 00:00:00+00:00  164.94  169.92  164.94  168.39  40248954   \n",
       "\n",
       "                                   adjClose    adjHigh     adjLow    adjOpen  \\\n",
       "symbol date                                                                    \n",
       "AAPL   2018-03-19 00:00:00+00:00  41.722731  42.239207  41.332399  42.203506   \n",
       "       2018-03-20 00:00:00+00:00  41.708451  42.079742  41.637048  41.708451   \n",
       "       2018-03-21 00:00:00+00:00  40.763560  41.672749  40.761180  41.660849   \n",
       "       2018-03-22 00:00:00+00:00  40.187582  41.099151  40.128080  40.461291   \n",
       "       2018-03-23 00:00:00+00:00  39.256972  40.442250  39.256972  40.078099   \n",
       "\n",
       "                                  adjVolume  divCash  splitFactor  \n",
       "symbol date                                                        \n",
       "AAPL   2018-03-19 00:00:00+00:00  131218780      0.0          1.0  \n",
       "       2018-03-20 00:00:00+00:00   77256156      0.0          1.0  \n",
       "       2018-03-21 00:00:00+00:00  140989432      0.0          1.0  \n",
       "       2018-03-22 00:00:00+00:00  164204304      0.0          1.0  \n",
       "       2018-03-23 00:00:00+00:00  160995816      0.0          1.0  "
      ]
     },
     "execution_count": 4,
     "metadata": {},
     "output_type": "execute_result"
    }
   ],
   "source": [
    "df = pdr.get_data_tiingo('AAPL', api_key=\"5a3cf055c68c83ec2d37a25715dd11465b9ebd6e\")\n",
    "df.head()"
   ]
  },
  {
   "cell_type": "code",
   "execution_count": 7,
   "id": "df250dff",
   "metadata": {},
   "outputs": [],
   "source": [
    "#lets save this file on our computer\n",
    "\n",
    "df.to_csv(r\"C:\\Users\\seanr\\Desktop\\Apple_stock_prices.csv\")"
   ]
  },
  {
   "cell_type": "code",
   "execution_count": 4,
   "id": "9c9542de",
   "metadata": {},
   "outputs": [],
   "source": [
    "df=pd.read_csv(r\"C:\\Users\\seanr\\Desktop\\Apple_stock_prices.csv\")"
   ]
  },
  {
   "cell_type": "code",
   "execution_count": 5,
   "id": "5ef423f0",
   "metadata": {},
   "outputs": [
    {
     "data": {
      "text/html": [
       "<div>\n",
       "<style scoped>\n",
       "    .dataframe tbody tr th:only-of-type {\n",
       "        vertical-align: middle;\n",
       "    }\n",
       "\n",
       "    .dataframe tbody tr th {\n",
       "        vertical-align: top;\n",
       "    }\n",
       "\n",
       "    .dataframe thead th {\n",
       "        text-align: right;\n",
       "    }\n",
       "</style>\n",
       "<table border=\"1\" class=\"dataframe\">\n",
       "  <thead>\n",
       "    <tr style=\"text-align: right;\">\n",
       "      <th></th>\n",
       "      <th>symbol</th>\n",
       "      <th>date</th>\n",
       "      <th>close</th>\n",
       "      <th>high</th>\n",
       "      <th>low</th>\n",
       "      <th>open</th>\n",
       "      <th>volume</th>\n",
       "      <th>adjClose</th>\n",
       "      <th>adjHigh</th>\n",
       "      <th>adjLow</th>\n",
       "      <th>adjOpen</th>\n",
       "      <th>adjVolume</th>\n",
       "      <th>divCash</th>\n",
       "      <th>splitFactor</th>\n",
       "    </tr>\n",
       "  </thead>\n",
       "  <tbody>\n",
       "    <tr>\n",
       "      <th>0</th>\n",
       "      <td>AAPL</td>\n",
       "      <td>2018-03-19 00:00:00+00:00</td>\n",
       "      <td>175.30</td>\n",
       "      <td>177.47</td>\n",
       "      <td>173.66</td>\n",
       "      <td>177.32</td>\n",
       "      <td>32804695</td>\n",
       "      <td>41.722731</td>\n",
       "      <td>42.239207</td>\n",
       "      <td>41.332399</td>\n",
       "      <td>42.203506</td>\n",
       "      <td>131218780</td>\n",
       "      <td>0.0</td>\n",
       "      <td>1.0</td>\n",
       "    </tr>\n",
       "    <tr>\n",
       "      <th>1</th>\n",
       "      <td>AAPL</td>\n",
       "      <td>2018-03-20 00:00:00+00:00</td>\n",
       "      <td>175.24</td>\n",
       "      <td>176.80</td>\n",
       "      <td>174.94</td>\n",
       "      <td>175.24</td>\n",
       "      <td>19314039</td>\n",
       "      <td>41.708451</td>\n",
       "      <td>42.079742</td>\n",
       "      <td>41.637048</td>\n",
       "      <td>41.708451</td>\n",
       "      <td>77256156</td>\n",
       "      <td>0.0</td>\n",
       "      <td>1.0</td>\n",
       "    </tr>\n",
       "    <tr>\n",
       "      <th>2</th>\n",
       "      <td>AAPL</td>\n",
       "      <td>2018-03-21 00:00:00+00:00</td>\n",
       "      <td>171.27</td>\n",
       "      <td>175.09</td>\n",
       "      <td>171.26</td>\n",
       "      <td>175.04</td>\n",
       "      <td>35247358</td>\n",
       "      <td>40.763560</td>\n",
       "      <td>41.672749</td>\n",
       "      <td>40.761180</td>\n",
       "      <td>41.660849</td>\n",
       "      <td>140989432</td>\n",
       "      <td>0.0</td>\n",
       "      <td>1.0</td>\n",
       "    </tr>\n",
       "    <tr>\n",
       "      <th>3</th>\n",
       "      <td>AAPL</td>\n",
       "      <td>2018-03-22 00:00:00+00:00</td>\n",
       "      <td>168.85</td>\n",
       "      <td>172.68</td>\n",
       "      <td>168.60</td>\n",
       "      <td>170.00</td>\n",
       "      <td>41051076</td>\n",
       "      <td>40.187582</td>\n",
       "      <td>41.099151</td>\n",
       "      <td>40.128080</td>\n",
       "      <td>40.461291</td>\n",
       "      <td>164204304</td>\n",
       "      <td>0.0</td>\n",
       "      <td>1.0</td>\n",
       "    </tr>\n",
       "    <tr>\n",
       "      <th>4</th>\n",
       "      <td>AAPL</td>\n",
       "      <td>2018-03-23 00:00:00+00:00</td>\n",
       "      <td>164.94</td>\n",
       "      <td>169.92</td>\n",
       "      <td>164.94</td>\n",
       "      <td>168.39</td>\n",
       "      <td>40248954</td>\n",
       "      <td>39.256972</td>\n",
       "      <td>40.442250</td>\n",
       "      <td>39.256972</td>\n",
       "      <td>40.078099</td>\n",
       "      <td>160995816</td>\n",
       "      <td>0.0</td>\n",
       "      <td>1.0</td>\n",
       "    </tr>\n",
       "  </tbody>\n",
       "</table>\n",
       "</div>"
      ],
      "text/plain": [
       "  symbol                       date   close    high     low    open    volume  \\\n",
       "0   AAPL  2018-03-19 00:00:00+00:00  175.30  177.47  173.66  177.32  32804695   \n",
       "1   AAPL  2018-03-20 00:00:00+00:00  175.24  176.80  174.94  175.24  19314039   \n",
       "2   AAPL  2018-03-21 00:00:00+00:00  171.27  175.09  171.26  175.04  35247358   \n",
       "3   AAPL  2018-03-22 00:00:00+00:00  168.85  172.68  168.60  170.00  41051076   \n",
       "4   AAPL  2018-03-23 00:00:00+00:00  164.94  169.92  164.94  168.39  40248954   \n",
       "\n",
       "    adjClose    adjHigh     adjLow    adjOpen  adjVolume  divCash  splitFactor  \n",
       "0  41.722731  42.239207  41.332399  42.203506  131218780      0.0          1.0  \n",
       "1  41.708451  42.079742  41.637048  41.708451   77256156      0.0          1.0  \n",
       "2  40.763560  41.672749  40.761180  41.660849  140989432      0.0          1.0  \n",
       "3  40.187582  41.099151  40.128080  40.461291  164204304      0.0          1.0  \n",
       "4  39.256972  40.442250  39.256972  40.078099  160995816      0.0          1.0  "
      ]
     },
     "execution_count": 5,
     "metadata": {},
     "output_type": "execute_result"
    }
   ],
   "source": [
    "df.head()"
   ]
  },
  {
   "cell_type": "code",
   "execution_count": 6,
   "id": "78251d8f",
   "metadata": {},
   "outputs": [
    {
     "data": {
      "text/html": [
       "<div>\n",
       "<style scoped>\n",
       "    .dataframe tbody tr th:only-of-type {\n",
       "        vertical-align: middle;\n",
       "    }\n",
       "\n",
       "    .dataframe tbody tr th {\n",
       "        vertical-align: top;\n",
       "    }\n",
       "\n",
       "    .dataframe thead th {\n",
       "        text-align: right;\n",
       "    }\n",
       "</style>\n",
       "<table border=\"1\" class=\"dataframe\">\n",
       "  <thead>\n",
       "    <tr style=\"text-align: right;\">\n",
       "      <th></th>\n",
       "      <th>symbol</th>\n",
       "      <th>date</th>\n",
       "      <th>close</th>\n",
       "      <th>high</th>\n",
       "      <th>low</th>\n",
       "      <th>open</th>\n",
       "      <th>volume</th>\n",
       "      <th>adjClose</th>\n",
       "      <th>adjHigh</th>\n",
       "      <th>adjLow</th>\n",
       "      <th>adjOpen</th>\n",
       "      <th>adjVolume</th>\n",
       "      <th>divCash</th>\n",
       "      <th>splitFactor</th>\n",
       "    </tr>\n",
       "  </thead>\n",
       "  <tbody>\n",
       "    <tr>\n",
       "      <th>1253</th>\n",
       "      <td>AAPL</td>\n",
       "      <td>2023-03-10 00:00:00+00:00</td>\n",
       "      <td>148.50</td>\n",
       "      <td>150.940</td>\n",
       "      <td>147.6096</td>\n",
       "      <td>150.210</td>\n",
       "      <td>68572400</td>\n",
       "      <td>148.50</td>\n",
       "      <td>150.940</td>\n",
       "      <td>147.6096</td>\n",
       "      <td>150.210</td>\n",
       "      <td>68572400</td>\n",
       "      <td>0.0</td>\n",
       "      <td>1.0</td>\n",
       "    </tr>\n",
       "    <tr>\n",
       "      <th>1254</th>\n",
       "      <td>AAPL</td>\n",
       "      <td>2023-03-13 00:00:00+00:00</td>\n",
       "      <td>150.47</td>\n",
       "      <td>153.140</td>\n",
       "      <td>147.7000</td>\n",
       "      <td>147.805</td>\n",
       "      <td>84457122</td>\n",
       "      <td>150.47</td>\n",
       "      <td>153.140</td>\n",
       "      <td>147.7000</td>\n",
       "      <td>147.805</td>\n",
       "      <td>84457122</td>\n",
       "      <td>0.0</td>\n",
       "      <td>1.0</td>\n",
       "    </tr>\n",
       "    <tr>\n",
       "      <th>1255</th>\n",
       "      <td>AAPL</td>\n",
       "      <td>2023-03-14 00:00:00+00:00</td>\n",
       "      <td>152.59</td>\n",
       "      <td>153.400</td>\n",
       "      <td>150.1000</td>\n",
       "      <td>151.280</td>\n",
       "      <td>73695893</td>\n",
       "      <td>152.59</td>\n",
       "      <td>153.400</td>\n",
       "      <td>150.1000</td>\n",
       "      <td>151.280</td>\n",
       "      <td>73695893</td>\n",
       "      <td>0.0</td>\n",
       "      <td>1.0</td>\n",
       "    </tr>\n",
       "    <tr>\n",
       "      <th>1256</th>\n",
       "      <td>AAPL</td>\n",
       "      <td>2023-03-15 00:00:00+00:00</td>\n",
       "      <td>152.99</td>\n",
       "      <td>153.245</td>\n",
       "      <td>149.9200</td>\n",
       "      <td>151.190</td>\n",
       "      <td>77167866</td>\n",
       "      <td>152.99</td>\n",
       "      <td>153.245</td>\n",
       "      <td>149.9200</td>\n",
       "      <td>151.190</td>\n",
       "      <td>77167866</td>\n",
       "      <td>0.0</td>\n",
       "      <td>1.0</td>\n",
       "    </tr>\n",
       "    <tr>\n",
       "      <th>1257</th>\n",
       "      <td>AAPL</td>\n",
       "      <td>2023-03-16 00:00:00+00:00</td>\n",
       "      <td>155.85</td>\n",
       "      <td>156.460</td>\n",
       "      <td>151.6400</td>\n",
       "      <td>152.160</td>\n",
       "      <td>76016995</td>\n",
       "      <td>155.85</td>\n",
       "      <td>156.460</td>\n",
       "      <td>151.6400</td>\n",
       "      <td>152.160</td>\n",
       "      <td>76016995</td>\n",
       "      <td>0.0</td>\n",
       "      <td>1.0</td>\n",
       "    </tr>\n",
       "  </tbody>\n",
       "</table>\n",
       "</div>"
      ],
      "text/plain": [
       "     symbol                       date   close     high       low     open  \\\n",
       "1253   AAPL  2023-03-10 00:00:00+00:00  148.50  150.940  147.6096  150.210   \n",
       "1254   AAPL  2023-03-13 00:00:00+00:00  150.47  153.140  147.7000  147.805   \n",
       "1255   AAPL  2023-03-14 00:00:00+00:00  152.59  153.400  150.1000  151.280   \n",
       "1256   AAPL  2023-03-15 00:00:00+00:00  152.99  153.245  149.9200  151.190   \n",
       "1257   AAPL  2023-03-16 00:00:00+00:00  155.85  156.460  151.6400  152.160   \n",
       "\n",
       "        volume  adjClose  adjHigh    adjLow  adjOpen  adjVolume  divCash  \\\n",
       "1253  68572400    148.50  150.940  147.6096  150.210   68572400      0.0   \n",
       "1254  84457122    150.47  153.140  147.7000  147.805   84457122      0.0   \n",
       "1255  73695893    152.59  153.400  150.1000  151.280   73695893      0.0   \n",
       "1256  77167866    152.99  153.245  149.9200  151.190   77167866      0.0   \n",
       "1257  76016995    155.85  156.460  151.6400  152.160   76016995      0.0   \n",
       "\n",
       "      splitFactor  \n",
       "1253          1.0  \n",
       "1254          1.0  \n",
       "1255          1.0  \n",
       "1256          1.0  \n",
       "1257          1.0  "
      ]
     },
     "execution_count": 6,
     "metadata": {},
     "output_type": "execute_result"
    }
   ],
   "source": [
    "df.tail()"
   ]
  },
  {
   "cell_type": "code",
   "execution_count": 7,
   "id": "202c1cd0",
   "metadata": {},
   "outputs": [
    {
     "data": {
      "text/plain": [
       "(1258, 14)"
      ]
     },
     "execution_count": 7,
     "metadata": {},
     "output_type": "execute_result"
    }
   ],
   "source": [
    "df.shape"
   ]
  },
  {
   "cell_type": "code",
   "execution_count": 8,
   "id": "165ad3c6",
   "metadata": {},
   "outputs": [
    {
     "data": {
      "text/plain": [
       "0       175.30\n",
       "1       175.24\n",
       "2       171.27\n",
       "3       168.85\n",
       "4       164.94\n",
       "         ...  \n",
       "1253    148.50\n",
       "1254    150.47\n",
       "1255    152.59\n",
       "1256    152.99\n",
       "1257    155.85\n",
       "Name: close, Length: 1258, dtype: float64"
      ]
     },
     "execution_count": 8,
     "metadata": {},
     "output_type": "execute_result"
    }
   ],
   "source": [
    "# LETS CONSIDER CLOSING PRICE OF THE STOCK\n",
    "\n",
    "x=df[\"close\"]\n",
    "x\n"
   ]
  },
  {
   "cell_type": "code",
   "execution_count": 9,
   "id": "9f60643b",
   "metadata": {},
   "outputs": [
    {
     "data": {
      "text/plain": [
       "[<matplotlib.lines.Line2D at 0x150c704d850>]"
      ]
     },
     "execution_count": 9,
     "metadata": {},
     "output_type": "execute_result"
    },
    {
     "data": {
      "image/png": "[encoded data removed]",
      "text/plain": [
       "<Figure size 432x288 with 1 Axes>"
      ]
     },
     "metadata": {
      "needs_background": "light"
     },
     "output_type": "display_data"
    }
   ],
   "source": [
    "import matplotlib.pyplot as plt\n",
    "plt.plot(x)"
   ]
  },
  {
   "cell_type": "code",
   "execution_count": 10,
   "id": "fc0b2c09",
   "metadata": {},
   "outputs": [],
   "source": [
    "# LSTM are sensitive to the scale of the data. so we apply MinMax scaler"
   ]
  },
  {
   "cell_type": "code",
   "execution_count": 11,
   "id": "56d595f3",
   "metadata": {},
   "outputs": [],
   "source": [
    "# FEATURE SCALING"
   ]
  },
  {
   "cell_type": "code",
   "execution_count": 12,
   "id": "9d55bad9",
   "metadata": {},
   "outputs": [],
   "source": [
    "#inorder to apply scaling we need to reshape our array to # [-1,1]\n",
    "\n",
    "import numpy as np\n",
    "\n",
    "x=np.array(x)\n",
    "x=x.reshape(-1,1)"
   ]
  },
  {
   "cell_type": "code",
   "execution_count": 13,
   "id": "10dda598",
   "metadata": {},
   "outputs": [
    {
     "data": {
      "text/plain": [
       "array([[0.17147151],\n",
       "       [0.17132123],\n",
       "       [0.16137758],\n",
       "       ...,\n",
       "       [0.11458986],\n",
       "       [0.11559173],\n",
       "       [0.12275517]])"
      ]
     },
     "execution_count": 13,
     "metadata": {},
     "output_type": "execute_result"
    }
   ],
   "source": [
    "from sklearn.preprocessing import MinMaxScaler\n",
    "\n",
    "\n",
    "scaler = MinMaxScaler(feature_range=(0,1))\n",
    "x = scaler.fit_transform(x)\n",
    "x"
   ]
  },
  {
   "cell_type": "code",
   "execution_count": 140,
   "id": "05256988",
   "metadata": {},
   "outputs": [],
   "source": [
    "#TRAIN TEST SPLIT , SINCE IT IS TIME SERIES DATA WE SPLIT DATA AT A 65% * LENGTH OF DATA , ie all records after a certain date is our test set\n",
    "\n",
    "\n",
    "training_size=int(len(x)*0.65)\n",
    "test_size=len(x)-training_size\n",
    "\n",
    "train_data,test_data=x[0:training_size,:],x[training_size:len(x),:1]"
   ]
  },
  {
   "cell_type": "code",
   "execution_count": 131,
   "id": "b4f7cec0",
   "metadata": {},
   "outputs": [
    {
     "data": {
      "text/plain": [
       "array([[0.17147151],\n",
       "       [0.17132123],\n",
       "       [0.16137758],\n",
       "       [0.15531622],\n",
       "       [0.14552286]])"
      ]
     },
     "execution_count": 131,
     "metadata": {},
     "output_type": "execute_result"
    }
   ],
   "source": [
    "train_data[0:5]"
   ]
  },
  {
   "cell_type": "code",
   "execution_count": 132,
   "id": "bb3b6f48",
   "metadata": {},
   "outputs": [
    {
     "data": {
      "text/plain": [
       "(817, 1)"
      ]
     },
     "execution_count": 132,
     "metadata": {},
     "output_type": "execute_result"
    }
   ],
   "source": [
    "train_data.shape"
   ]
  },
  {
   "cell_type": "code",
   "execution_count": 133,
   "id": "f9c2f3d8",
   "metadata": {},
   "outputs": [
    {
     "data": {
      "text/plain": [
       "(441, 1)"
      ]
     },
     "execution_count": 133,
     "metadata": {},
     "output_type": "execute_result"
    }
   ],
   "source": [
    "test_data.shape"
   ]
  },
  {
   "cell_type": "code",
   "execution_count": 159,
   "id": "ee3a5f90",
   "metadata": {},
   "outputs": [],
   "source": [
    "time_step=100     # DATE:        #  DAY 1      DAY 2      DAY  3            DAY 4           # WE TRY TO CONVERT OUR DATASET IN THIS MANNER\n",
    "                 #STOCK PRICE:     4           4          5                 4.5            # SINCE TIME_sTEP =3 ,\n",
    "                                                                                       #  OUR INDEPENDENT FEATURES ARE DAY 1,2,3 AND WE TRY TO PREDICT VALUE FOR DAY 4"
   ]
  },
  {
   "cell_type": "code",
   "execution_count": 160,
   "id": "5de51f3c",
   "metadata": {},
   "outputs": [],
   "source": [
    "# CREATING OUR INDEPENDENT AND DEPENDENT FEATURES USING  A CERTAIN  TIME STEP \n",
    "\n",
    "#TRAIN:\n",
    "\n",
    "x_train=[]\n",
    "y_train=[]\n",
    "for i in range(len(train_data)-time_step-1):\n",
    "    x_train.append(train_data[i:i+time_step,0])\n",
    "    y_train.append(train_data[i+time_step,0])\n",
    "\n",
    "x_train=np.array(x_train) \n",
    "y_train=np.array(y_train)\n",
    "    "
   ]
  },
  {
   "cell_type": "code",
   "execution_count": 161,
   "id": "d21aafbe",
   "metadata": {},
   "outputs": [],
   "source": [
    "#TEST:\n",
    "\n",
    "x_test=[]\n",
    "y_test=[]\n",
    "for i in range(len(test_data)-time_step-1):\n",
    "    x_test.append(test_data[i:i+time_step,0])\n",
    "    y_test.append(test_data[i+time_step,0])\n",
    "\n",
    "x_test=np.array(x_test) \n",
    "y_test=np.array(y_test)"
   ]
  },
  {
   "cell_type": "code",
   "execution_count": 162,
   "id": "6aee3cd2",
   "metadata": {},
   "outputs": [
    {
     "data": {
      "text/plain": [
       "array([[0.17147151, 0.17132123, 0.16137758, ..., 0.2560551 , 0.2511459 ,\n",
       "        0.25149656],\n",
       "       [0.17132123, 0.16137758, 0.15531622, ..., 0.2511459 , 0.25149656,\n",
       "        0.25557921],\n",
       "       [0.16137758, 0.15531622, 0.14552286, ..., 0.25149656, 0.25557921,\n",
       "        0.25219787],\n",
       "       ...,\n",
       "       [0.05084534, 0.05257358, 0.0630933 , ..., 0.04773951, 0.04984346,\n",
       "        0.05082029],\n",
       "       [0.05257358, 0.0630933 , 0.07521603, ..., 0.04984346, 0.05082029,\n",
       "        0.0482655 ],\n",
       "       [0.0630933 , 0.07521603, 0.08072636, ..., 0.05082029, 0.0482655 ,\n",
       "        0.05137132]])"
      ]
     },
     "execution_count": 162,
     "metadata": {},
     "output_type": "execute_result"
    }
   ],
   "source": [
    "x_train"
   ]
  },
  {
   "cell_type": "markdown",
   "id": "5695db37",
   "metadata": {},
   "source": [
    "Alternatively we could create a function and then apply on train and test data\n",
    "\n",
    "def create_dataset(dataset, time_step):\n",
    "    dataX, dataY = [], []\n",
    "    for i in range(len(dataset)-time_step-1):\n",
    "        a = dataset[i:(i+time_step), 0]   ###i=0, 0,1,2,3-----99   100 \n",
    "        dataX.append(a)\n",
    "        dataY.append(dataset[i + time_step, 0])\n",
    "    return np.array(dataX), np.array(dataY)\n",
    "\n",
    "\n",
    " #reshape into X=t,t+1,t+2,t+3 and Y=t+4\n",
    "time_step = 3\n",
    "X_train, y_train = create_dataset(train_data, time_step)\n",
    "X_test, ytest = create_dataset(test_data, time_step)"
   ]
  },
  {
   "cell_type": "code",
   "execution_count": 163,
   "id": "fc9197ec",
   "metadata": {},
   "outputs": [
    {
     "data": {
      "text/plain": [
       "(716, 100)"
      ]
     },
     "execution_count": 163,
     "metadata": {},
     "output_type": "execute_result"
    }
   ],
   "source": [
    "x_train.shape"
   ]
  },
  {
   "cell_type": "code",
   "execution_count": 164,
   "id": "83ca7039",
   "metadata": {},
   "outputs": [
    {
     "data": {
      "text/plain": [
       "(340, 100)"
      ]
     },
     "execution_count": 164,
     "metadata": {},
     "output_type": "execute_result"
    }
   ],
   "source": [
    "x_test.shape"
   ]
  },
  {
   "cell_type": "code",
   "execution_count": 165,
   "id": "86ff3e91",
   "metadata": {},
   "outputs": [],
   "source": [
    "# reshape input to be [samples, time steps, features] which is required for LSTM\n",
    "# here features dimension has just a single value since we do not need to vectorize stock prices, we only vectorize words\n",
    "\n",
    "x_train =x_train.reshape(x_train.shape[0],x_train.shape[1] , 1)\n",
    "x_test = x_test.reshape(x_test.shape[0],x_test.shape[1] , 1)"
   ]
  },
  {
   "cell_type": "code",
   "execution_count": 166,
   "id": "a9a7bd13",
   "metadata": {},
   "outputs": [
    {
     "data": {
      "text/plain": [
       "array([[[0.17147151],\n",
       "        [0.17132123],\n",
       "        [0.16137758],\n",
       "        ...,\n",
       "        [0.2560551 ],\n",
       "        [0.2511459 ],\n",
       "        [0.25149656]],\n",
       "\n",
       "       [[0.17132123],\n",
       "        [0.16137758],\n",
       "        [0.15531622],\n",
       "        ...,\n",
       "        [0.2511459 ],\n",
       "        [0.25149656],\n",
       "        [0.25557921]],\n",
       "\n",
       "       [[0.16137758],\n",
       "        [0.15531622],\n",
       "        [0.14552286],\n",
       "        ...,\n",
       "        [0.25149656],\n",
       "        [0.25557921],\n",
       "        [0.25219787]],\n",
       "\n",
       "       ...,\n",
       "\n",
       "       [[0.05084534],\n",
       "        [0.05257358],\n",
       "        [0.0630933 ],\n",
       "        ...,\n",
       "        [0.04773951],\n",
       "        [0.04984346],\n",
       "        [0.05082029]],\n",
       "\n",
       "       [[0.05257358],\n",
       "        [0.0630933 ],\n",
       "        [0.07521603],\n",
       "        ...,\n",
       "        [0.04984346],\n",
       "        [0.05082029],\n",
       "        [0.0482655 ]],\n",
       "\n",
       "       [[0.0630933 ],\n",
       "        [0.07521603],\n",
       "        [0.08072636],\n",
       "        ...,\n",
       "        [0.05082029],\n",
       "        [0.0482655 ],\n",
       "        [0.05137132]]])"
      ]
     },
     "execution_count": 166,
     "metadata": {},
     "output_type": "execute_result"
    }
   ],
   "source": [
    "x_train"
   ]
  },
  {
   "cell_type": "code",
   "execution_count": 167,
   "id": "bd303380",
   "metadata": {},
   "outputs": [
    {
     "data": {
      "text/plain": [
       "(716, 100, 1)"
      ]
     },
     "execution_count": 167,
     "metadata": {},
     "output_type": "execute_result"
    }
   ],
   "source": [
    "x_train.shape"
   ]
  },
  {
   "cell_type": "markdown",
   "id": "ff40621b",
   "metadata": {},
   "source": [
    "# CREATING A STACKED LSTM MODEL"
   ]
  },
  {
   "cell_type": "code",
   "execution_count": 168,
   "id": "4bcd7b74",
   "metadata": {},
   "outputs": [],
   "source": [
    "from tensorflow.keras.models import Sequential\n",
    "from tensorflow.keras.layers import Dense\n",
    "from tensorflow.keras.layers import LSTM"
   ]
  },
  {
   "cell_type": "code",
   "execution_count": 169,
   "id": "099919da",
   "metadata": {},
   "outputs": [],
   "source": [
    "model=Sequential()\n",
    "model.add(LSTM(50,return_sequences=True,input_shape=(100,1)))\n",
    "model.add(LSTM(50,return_sequences=True))\n",
    "model.add(LSTM(50))\n",
    "model.add(Dense(1))\n",
    "model.compile(loss='mean_squared_error',optimizer='adam')"
   ]
  },
  {
   "cell_type": "code",
   "execution_count": 170,
   "id": "89faa33c",
   "metadata": {},
   "outputs": [
    {
     "name": "stdout",
     "output_type": "stream",
     "text": [
      "Model: \"sequential_9\"\n",
      "_________________________________________________________________\n",
      " Layer (type)                Output Shape              Param #   \n",
      "=================================================================\n",
      " lstm_23 (LSTM)              (None, 100, 50)           10400     \n",
      "                                                                 \n",
      " lstm_24 (LSTM)              (None, 100, 50)           20200     \n",
      "                                                                 \n",
      " lstm_25 (LSTM)              (None, 50)                20200     \n",
      "                                                                 \n",
      " dense_7 (Dense)             (None, 1)                 51        \n",
      "                                                                 \n",
      "=================================================================\n",
      "Total params: 50,851\n",
      "Trainable params: 50,851\n",
      "Non-trainable params: 0\n",
      "_________________________________________________________________\n"
     ]
    }
   ],
   "source": [
    "model.summary()"
   ]
  },
  {
   "cell_type": "code",
   "execution_count": 171,
   "id": "0b0107a5",
   "metadata": {},
   "outputs": [
    {
     "name": "stdout",
     "output_type": "stream",
     "text": [
      "Epoch 1/50\n",
      "12/12 [==============================] - 6s 182ms/step - loss: 0.0398 - val_loss: 0.0020\n",
      "Epoch 2/50\n",
      "12/12 [==============================] - 1s 114ms/step - loss: 0.0171 - val_loss: 0.0027\n",
      "Epoch 3/50\n",
      "12/12 [==============================] - 1s 113ms/step - loss: 0.0108 - val_loss: 0.0012\n",
      "Epoch 4/50\n",
      "12/12 [==============================] - 1s 111ms/step - loss: 0.0095 - val_loss: 5.6137e-04\n",
      "Epoch 5/50\n",
      "12/12 [==============================] - 1s 107ms/step - loss: 0.0092 - val_loss: 3.7742e-04\n",
      "Epoch 6/50\n",
      "12/12 [==============================] - 1s 109ms/step - loss: 0.0076 - val_loss: 0.0011\n",
      "Epoch 7/50\n",
      "12/12 [==============================] - 1s 109ms/step - loss: 0.0079 - val_loss: 3.5787e-04\n",
      "Epoch 8/50\n",
      "12/12 [==============================] - 1s 108ms/step - loss: 0.0069 - val_loss: 8.1421e-04\n",
      "Epoch 9/50\n",
      "12/12 [==============================] - 1s 109ms/step - loss: 0.0059 - val_loss: 3.5810e-04\n",
      "Epoch 10/50\n",
      "12/12 [==============================] - 1s 109ms/step - loss: 0.0054 - val_loss: 3.2970e-04\n",
      "Epoch 11/50\n",
      "12/12 [==============================] - 1s 108ms/step - loss: 0.0054 - val_loss: 3.7485e-04\n",
      "Epoch 12/50\n",
      "12/12 [==============================] - 1s 117ms/step - loss: 0.0052 - val_loss: 5.0786e-04\n",
      "Epoch 13/50\n",
      "12/12 [==============================] - 1s 113ms/step - loss: 0.0048 - val_loss: 3.2288e-04\n",
      "Epoch 14/50\n",
      "12/12 [==============================] - 1s 109ms/step - loss: 0.0045 - val_loss: 3.3773e-04\n",
      "Epoch 15/50\n",
      "12/12 [==============================] - 1s 111ms/step - loss: 0.0039 - val_loss: 3.9949e-04\n",
      "Epoch 16/50\n",
      "12/12 [==============================] - 1s 113ms/step - loss: 0.0037 - val_loss: 3.2230e-04\n",
      "Epoch 17/50\n",
      "12/12 [==============================] - 1s 110ms/step - loss: 0.0034 - val_loss: 3.9945e-04\n",
      "Epoch 18/50\n",
      "12/12 [==============================] - 1s 111ms/step - loss: 0.0030 - val_loss: 2.8527e-04\n",
      "Epoch 19/50\n",
      "12/12 [==============================] - 1s 110ms/step - loss: 0.0029 - val_loss: 6.0492e-04\n",
      "Epoch 20/50\n",
      "12/12 [==============================] - 1s 112ms/step - loss: 0.0027 - val_loss: 2.6641e-04\n",
      "Epoch 21/50\n",
      "12/12 [==============================] - 1s 115ms/step - loss: 0.0028 - val_loss: 8.0660e-04\n",
      "Epoch 22/50\n",
      "12/12 [==============================] - 1s 111ms/step - loss: 0.0040 - val_loss: 9.0734e-04\n",
      "Epoch 23/50\n",
      "12/12 [==============================] - 1s 111ms/step - loss: 0.0028 - val_loss: 5.2893e-04\n",
      "Epoch 24/50\n",
      "12/12 [==============================] - 1s 119ms/step - loss: 0.0028 - val_loss: 3.3189e-04\n",
      "Epoch 25/50\n",
      "12/12 [==============================] - 1s 119ms/step - loss: 0.0032 - val_loss: 3.1972e-04\n",
      "Epoch 26/50\n",
      "12/12 [==============================] - 1s 110ms/step - loss: 0.0024 - val_loss: 3.0989e-04\n",
      "Epoch 27/50\n",
      "12/12 [==============================] - 1s 112ms/step - loss: 0.0028 - val_loss: 2.6889e-04\n",
      "Epoch 28/50\n",
      "12/12 [==============================] - 1s 111ms/step - loss: 0.0023 - val_loss: 3.4183e-04\n",
      "Epoch 29/50\n",
      "12/12 [==============================] - 1s 111ms/step - loss: 0.0019 - val_loss: 3.4148e-04\n",
      "Epoch 30/50\n",
      "12/12 [==============================] - 1s 111ms/step - loss: 0.0020 - val_loss: 3.0136e-04\n",
      "Epoch 31/50\n",
      "12/12 [==============================] - 1s 112ms/step - loss: 0.0022 - val_loss: 6.3494e-04\n",
      "Epoch 32/50\n",
      "12/12 [==============================] - 1s 113ms/step - loss: 0.0049 - val_loss: 2.7066e-04\n",
      "Epoch 33/50\n",
      "12/12 [==============================] - 1s 114ms/step - loss: 0.0036 - val_loss: 4.2548e-04\n",
      "Epoch 34/50\n",
      "12/12 [==============================] - 1s 113ms/step - loss: 0.0032 - val_loss: 3.4147e-04\n",
      "Epoch 35/50\n",
      "12/12 [==============================] - 1s 112ms/step - loss: 0.0034 - val_loss: 3.5893e-04\n",
      "Epoch 36/50\n",
      "12/12 [==============================] - 1s 121ms/step - loss: 0.0034 - val_loss: 3.0874e-04\n",
      "Epoch 37/50\n",
      "12/12 [==============================] - 1s 117ms/step - loss: 0.0020 - val_loss: 3.0848e-04\n",
      "Epoch 38/50\n",
      "12/12 [==============================] - 1s 112ms/step - loss: 0.0020 - val_loss: 2.6821e-04\n",
      "Epoch 39/50\n",
      "12/12 [==============================] - 1s 113ms/step - loss: 0.0019 - val_loss: 3.0512e-04\n",
      "Epoch 40/50\n",
      "12/12 [==============================] - 1s 114ms/step - loss: 0.0030 - val_loss: 2.6338e-04\n",
      "Epoch 41/50\n",
      "12/12 [==============================] - 1s 113ms/step - loss: 0.0021 - val_loss: 2.6942e-04\n",
      "Epoch 42/50\n",
      "12/12 [==============================] - 1s 114ms/step - loss: 0.0022 - val_loss: 2.8195e-04\n",
      "Epoch 43/50\n",
      "12/12 [==============================] - 1s 115ms/step - loss: 0.0024 - val_loss: 2.8141e-04\n",
      "Epoch 44/50\n",
      "12/12 [==============================] - 1s 113ms/step - loss: 0.0028 - val_loss: 4.6796e-04\n",
      "Epoch 45/50\n",
      "12/12 [==============================] - 1s 113ms/step - loss: 0.0021 - val_loss: 2.8320e-04\n",
      "Epoch 46/50\n",
      "12/12 [==============================] - 1s 114ms/step - loss: 0.0026 - val_loss: 8.2890e-04\n",
      "Epoch 47/50\n",
      "12/12 [==============================] - 1s 114ms/step - loss: 0.0021 - val_loss: 3.2745e-04\n",
      "Epoch 48/50\n",
      "12/12 [==============================] - 1s 118ms/step - loss: 0.0020 - val_loss: 3.1036e-04\n",
      "Epoch 49/50\n",
      "12/12 [==============================] - 1s 116ms/step - loss: 0.0018 - val_loss: 4.3755e-04\n",
      "Epoch 50/50\n",
      "12/12 [==============================] - 1s 114ms/step - loss: 0.0042 - val_loss: 9.4347e-04\n"
     ]
    },
    {
     "data": {
      "text/plain": [
       "<keras.callbacks.History at 0x150f8c813d0>"
      ]
     },
     "execution_count": 171,
     "metadata": {},
     "output_type": "execute_result"
    }
   ],
   "source": [
    "model.fit(x_train,y_train,validation_data=(x_test,y_test),epochs=50,batch_size=64,verbose=1)"
   ]
  },
  {
   "cell_type": "code",
   "execution_count": 152,
   "id": "6a868026",
   "metadata": {},
   "outputs": [
    {
     "name": "stdout",
     "output_type": "stream",
     "text": [
      "23/23 [==============================] - 1s 21ms/step\n",
      "11/11 [==============================] - 0s 19ms/step\n"
     ]
    }
   ],
   "source": [
    "### Lets Do the prediction and check performance metrics\n",
    "\n",
    "train_predict=model.predict(x_train)\n",
    "\n",
    "test_predict=model.predict(x_test)"
   ]
  },
  {
   "cell_type": "code",
   "execution_count": 153,
   "id": "b3cba1bb",
   "metadata": {},
   "outputs": [],
   "source": [
    "##Transformback to original form\n",
    "train_predict=scaler.inverse_transform(train_predict)\n",
    "test_predict=scaler.inverse_transform(test_predict)"
   ]
  },
  {
   "cell_type": "code",
   "execution_count": 154,
   "id": "d4b33a45",
   "metadata": {},
   "outputs": [
    {
     "data": {
      "text/plain": [
       "231.73457205853867"
      ]
     },
     "execution_count": 154,
     "metadata": {},
     "output_type": "execute_result"
    }
   ],
   "source": [
    "### Calculate RMSE performance metrics\n",
    "\n",
    "import math\n",
    "from sklearn.metrics import mean_squared_error\n",
    "math.sqrt(mean_squared_error(y_train,train_predict))"
   ]
  },
  {
   "cell_type": "code",
   "execution_count": 155,
   "id": "cf81ccfe",
   "metadata": {},
   "outputs": [
    {
     "data": {
      "text/plain": [
       "155.45082476029998"
      ]
     },
     "execution_count": 155,
     "metadata": {},
     "output_type": "execute_result"
    }
   ],
   "source": [
    "### Test Data RMSE\n",
    "math.sqrt(mean_squared_error(y_test,test_predict))"
   ]
  },
  {
   "cell_type": "markdown",
   "id": "5c657700",
   "metadata": {},
   "source": [
    "# FUTURE PREDICTION FOR NEXT 10 DAYS"
   ]
  },
  {
   "cell_type": "code",
   "execution_count": 285,
   "id": "238741a9",
   "metadata": {},
   "outputs": [
    {
     "name": "stdout",
     "output_type": "stream",
     "text": [
      "1/1 [==============================] - 0s 22ms/step\n",
      "[[161.80576]]\n",
      "1/1 [==============================] - 0s 21ms/step\n",
      "[[162.49936]]\n",
      "1/1 [==============================] - 0s 21ms/step\n",
      "[[163.4613]]\n",
      "1/1 [==============================] - 0s 21ms/step\n",
      "[[164.63974]]\n",
      "1/1 [==============================] - 0s 22ms/step\n",
      "[[165.97096]]\n",
      "1/1 [==============================] - 0s 20ms/step\n",
      "[[167.39803]]\n",
      "1/1 [==============================] - 0s 23ms/step\n",
      "[[168.87651]]\n",
      "1/1 [==============================] - 0s 24ms/step\n",
      "[[170.37442]]\n",
      "1/1 [==============================] - 0s 23ms/step\n",
      "[[171.86992]]\n",
      "1/1 [==============================] - 0s 20ms/step\n",
      "[[173.34865]]\n"
     ]
    }
   ],
   "source": [
    "input1=test_data[len(test_data)-time_step:,]\n",
    "\n",
    "for i in range(10):\n",
    "    temp_input = input1                                 # WE DO NOT WANT TO RESHAPE INPUT 1 , HENCE WE STORE IT IN A TEMP\n",
    "    temp_input = temp_input.reshape((1, time_step,1))    # WE NEED TO RESHAPE OUR ARRAY IN THIS FORM TO APPLY LSTM MODEL PREDICT\n",
    "    yhat = model.predict(temp_input)\n",
    "    #print(yhat)                          this is the scaled prediction value\n",
    "    input1=np.append(input1,yhat,axis=0)    # APPEND THE NEW PREDICTED VALUE IN OUR INPUT LIST\n",
    "    input1=np.delete(input1,[0],axis=0)     # DELETE THE FIRST ELEMENT OF OUR ORIGINAL LIST ,since we need a shape of 100,1 \n",
    "    yhat=scaler.inverse_transform(yhat)       # lets unscale the value to original stock value\n",
    "    print(yhat)                       \n",
    "    "
   ]
  },
  {
   "cell_type": "code",
   "execution_count": null,
   "id": "6ac059de",
   "metadata": {},
   "outputs": [],
   "source": [
    "# ALTERNATE METHOD TO PREDICT FUTURE VALUES:"
   ]
  },
  {
   "cell_type": "code",
   "execution_count": 290,
   "id": "58950ec3",
   "metadata": {},
   "outputs": [
    {
     "data": {
      "text/plain": [
       "(1, 100)"
      ]
     },
     "execution_count": 290,
     "metadata": {},
     "output_type": "execute_result"
    }
   ],
   "source": [
    "x_input=test_data[len(test_data)-time_step:,].reshape(1,-1)\n",
    "x_input.shape\n"
   ]
  },
  {
   "cell_type": "code",
   "execution_count": 291,
   "id": "13cc8379",
   "metadata": {},
   "outputs": [],
   "source": [
    "temp_input=list(x_input)\n",
    "temp_input=temp_input[0].tolist()"
   ]
  },
  {
   "cell_type": "code",
   "execution_count": 292,
   "id": "0603daba",
   "metadata": {},
   "outputs": [
    {
     "name": "stdout",
     "output_type": "stream",
     "text": [
      "[0.13767253]\n",
      "101\n",
      "1 day output [[0.13940978]]\n",
      "2 day output [[0.14181915]]\n",
      "3 day output [[0.14477079]]\n",
      "4 day output [[0.14810508]]\n",
      "5 day output [[0.15167947]]\n",
      "6 day output [[0.15538262]]\n",
      "7 day output [[0.15913443]]\n",
      "8 day output [[0.16288018]]\n",
      "9 day output [[0.16658397]]\n",
      "10 day output [[0.17022301]]\n",
      "11 day output [[0.173783]]\n",
      "12 day output [[0.17725569]]\n",
      "13 day output [[0.1806361]]\n",
      "14 day output [[0.18392195]]\n",
      "15 day output [[0.18711242]]\n",
      "16 day output [[0.1902079]]\n",
      "17 day output [[0.19320956]]\n",
      "18 day output [[0.1961193]]\n",
      "19 day output [[0.19893932]]\n",
      "20 day output [[0.20167238]]\n",
      "21 day output [[0.20432125]]\n",
      "22 day output [[0.20688914]]\n",
      "23 day output [[0.20937903]]\n",
      "24 day output [[0.21179432]]\n",
      "25 day output [[0.21413805]]\n",
      "26 day output [[0.21641336]]\n",
      "27 day output [[0.21862316]]\n",
      "28 day output [[0.22077037]]\n",
      "29 day output [[0.2228577]]\n"
     ]
    }
   ],
   "source": [
    "# demonstrate prediction for next 10 days\n",
    "from numpy import array\n",
    "\n",
    "lst_output=[]\n",
    "n_steps=100\n",
    "i=0\n",
    "while(i<30):\n",
    "    \n",
    "    if(len(temp_input)>100):\n",
    "        #print(temp_input)\n",
    "        x_input=np.array(temp_input[1:])\n",
    "        #print(\"{} day input {}\".format(i,x_input))\n",
    "        x_input=x_input.reshape(1,-1)\n",
    "        x_input = x_input.reshape((1, n_steps, 1))\n",
    "        #print(x_input)\n",
    "        yhat = model.predict(x_input, verbose=0)\n",
    "        print(\"{} day output {}\".format(i,yhat))\n",
    "        temp_input.extend(yhat[0].tolist())\n",
    "        temp_input=temp_input[1:]\n",
    "        #print(temp_input)\n",
    "        lst_output.extend(yhat.tolist())\n",
    "        i=i+1\n",
    "    else:\n",
    "        x_input = x_input.reshape((1, n_steps,1))\n",
    "        yhat = model.predict(x_input, verbose=0)\n",
    "        print(yhat[0])\n",
    "        temp_input.extend(yhat[0].tolist())\n",
    "        print(len(temp_input))\n",
    "        lst_output.extend(yhat.tolist())\n",
    "        i=i+1\n",
    "    \n",
    "\n"
   ]
  },
  {
   "cell_type": "code",
   "execution_count": null,
   "id": "b1483729",
   "metadata": {},
   "outputs": [],
   "source": []
  }
 ],
 "metadata": {
  "kernelspec": {
   "display_name": "Python 3 (ipykernel)",
   "language": "python",
   "name": "python3"
  },
  "language_info": {
   "codemirror_mode": {
    "name": "ipython",
    "version": 3
   },
   "file_extension": ".py",
   "mimetype": "text/x-python",
   "name": "python",
   "nbconvert_exporter": "python",
   "pygments_lexer": "ipython3",
   "version": "3.9.7"
  }
 },
 "nbformat": 4,
 "nbformat_minor": 5
}
